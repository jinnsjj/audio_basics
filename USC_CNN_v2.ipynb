{
 "cells": [
  {
   "cell_type": "markdown",
   "metadata": {},
   "source": [
    "# Urban Sound Classifier using CNN v2"
   ]
  },
  {
   "cell_type": "markdown",
   "metadata": {},
   "source": [
    "第一个CNN的分类器效果惨烈，有许多细节都没有注意到，感觉修改也令人心烦，从头开始。老实说我也不知道这次能不能成功，边做边看吧。"
   ]
  },
  {
   "cell_type": "markdown",
   "metadata": {},
   "source": [
    "## 上次踩过的坑和经验"
   ]
  },
  {
   "cell_type": "markdown",
   "metadata": {},
   "source": [
    "1. 之前把频谱当作训练数据输入，但频谱里的数值都是负数，后来换为了绝对值。但这样其实也不行，应该要进行normalization。把是把值的范围限制在[-1,1]还是[0,1]还不清楚。我的想法是根据relu的性质，应当是[0,1]。（结果：应当时-1到1，值是*w+b再激活，所以负数不影响）\n",
    "2. 计算mfcc时的维度一般是40，有用的一般是2到13维。"
   ]
  },
  {
   "cell_type": "markdown",
   "metadata": {},
   "source": [
    "## 构想"
   ]
  },
  {
   "cell_type": "markdown",
   "metadata": {},
   "source": [
    "首先明确一下这次要做的事情：\n",
    "\n",
    "- 训练集：[UrbanSound8K dataset](https://serv.cusp.nyu.edu/projects/urbansounddataset/urbansound8k.html)，训练用fold 1-3，validation用从整个数据集里面随意找一些样本，test用fold 10。\n",
    "- 输入：MFCC，normalization为mean=0, var=1。\n",
    "- 网络：一个非常简单的CNN，两层conv2D层，进入一个全连接层。\n",
    "- 输出：10个class"
   ]
  },
  {
   "cell_type": "markdown",
   "metadata": {},
   "source": [
    "## 动手，去做"
   ]
  },
  {
   "cell_type": "code",
   "execution_count": 1,
   "metadata": {},
   "outputs": [
    {
     "name": "stderr",
     "output_type": "stream",
     "text": [
      "Using TensorFlow backend.\n"
     ]
    },
    {
     "data": {
      "text/plain": [
       "'2.2.0'"
      ]
     },
     "execution_count": 1,
     "metadata": {},
     "output_type": "execute_result"
    }
   ],
   "source": [
    "# draw\n",
    "%matplotlib inline\n",
    "import matplotlib.pyplot as plt\n",
    "plt.style.use('ggplot')\n",
    "# basic handling\n",
    "import os\n",
    "import glob\n",
    "import pickle\n",
    "import numpy as np\n",
    "# audio\n",
    "import librosa\n",
    "import librosa.display\n",
    "import IPython.display\n",
    "# normalization\n",
    "import sklearn\n",
    "# nn\n",
    "import keras\n",
    "from keras.models import Sequential\n",
    "from keras.layers import Dense, Dropout, Activation, Flatten\n",
    "from keras.layers import Convolution2D, MaxPooling2D\n",
    "from keras.utils import to_categorical\n",
    "from keras.callbacks import LearningRateScheduler\n",
    "keras.__version__"
   ]
  },
  {
   "cell_type": "markdown",
   "metadata": {},
   "source": [
    "指定dataset的位置"
   ]
  },
  {
   "cell_type": "code",
   "execution_count": 2,
   "metadata": {},
   "outputs": [],
   "source": [
    "parent_dir = '../data/UrbanSound8K/audio/'\n",
    "\n",
    "train_dir = 'train/'\n",
    "val_dir = 'val/'\n",
    "test_dir = 'fold10/'\n",
    "\n",
    "file_name = '*.wav'\n",
    "\n",
    "train_files = glob.glob(os.path.join(parent_dir, train_dir, file_name))\n",
    "val_files = glob.glob(os.path.join(parent_dir, val_dir, file_name))\n",
    "test_files = glob.glob(os.path.join(parent_dir, test_dir, file_name))"
   ]
  },
  {
   "cell_type": "markdown",
   "metadata": {},
   "source": [
    "定义一个函数用于读取音频片段，库里的片段几乎都是4s，但有一部分小于4秒，将它们补零。采样率22050，4秒一共88200个采样点。"
   ]
  },
  {
   "cell_type": "code",
   "execution_count": 3,
   "metadata": {},
   "outputs": [],
   "source": [
    "def load_clip(filename):\n",
    "    x, sr = librosa.load(filename)\n",
    "    x = np.pad(x,(0,88200-x.shape[0]),'constant')\n",
    "    return x, sr"
   ]
  },
  {
   "cell_type": "markdown",
   "metadata": {},
   "source": [
    "再定义一个函数，用于提取片段的mfcc并进行normalization。"
   ]
  },
  {
   "cell_type": "code",
   "execution_count": 4,
   "metadata": {},
   "outputs": [],
   "source": [
    "def extract_feature(filename):\n",
    "    x, sr = load_clip(filename)\n",
    "    mfccs = librosa.feature.mfcc(y=x, sr=sr, n_mfcc=40)\n",
    "    norm_mfccs = sklearn.preprocessing.scale(mfccs, axis=1)\n",
    "    return norm_mfccs"
   ]
  },
  {
   "cell_type": "code",
   "execution_count": 5,
   "metadata": {},
   "outputs": [
    {
     "data": {
      "image/png": "[encoded data removed]",
      "text/plain": [
       "<Figure size 1440x360 with 2 Axes>"
      ]
     },
     "metadata": {},
     "output_type": "display_data"
    },
    {
     "name": "stdout",
     "output_type": "stream",
     "text": [
      "[1. 1. 1. 1. 1. 1. 1. 1. 1. 1. 1. 1. 1. 1. 1. 1. 1. 1. 1. 1. 1. 1. 1. 1.\n",
      " 1. 1. 1. 1. 1. 1. 1. 1. 1. 1. 1. 1. 1. 1. 1. 1.]\n",
      "[-1.25692648e-14  1.57869864e-16  5.60887239e-16  4.24836787e-16\n",
      "  1.40542683e-16  6.23778486e-16  4.52431926e-17  4.46014452e-17\n",
      " -4.88530218e-17 -4.99921235e-16 -3.52640203e-16 -4.04300870e-17\n",
      " -6.48164887e-17 -5.00562982e-17 -1.41505305e-16  1.22573756e-16\n",
      "  1.66854327e-17 -4.73609591e-16 -1.86748497e-16 -4.96712498e-16\n",
      " -7.89349318e-17 -2.19477615e-16 -3.76063984e-16 -8.41972606e-16\n",
      "  0.00000000e+00 -2.95203810e-16 -3.54244572e-16  2.27820332e-16\n",
      "  2.80443620e-16 -2.25253342e-16 -2.65041682e-16 -4.06867860e-16\n",
      " -1.21932008e-16  3.97883396e-17  5.10830941e-16  1.84823255e-16\n",
      "  3.38842634e-16 -8.98446378e-18  3.70930005e-16 -1.42147052e-16]\n"
     ]
    }
   ],
   "source": [
    "# 测试extract_feature是否正常工作\n",
    "mfccs = extract_feature('./1.wav')\n",
    "plt.figure(figsize=(20,5))\n",
    "librosa.display.specshow(mfccs, sr=22050, x_axis='time', cmap='viridis')\n",
    "plt.colorbar()\n",
    "plt.show()\n",
    "print (mfccs.var(axis=1))\n",
    "print (mfccs.mean(axis=1))"
   ]
  },
  {
   "cell_type": "markdown",
   "metadata": {},
   "source": [
    "读取整个数据集，从整个数据集提取特征与标签"
   ]
  },
  {
   "cell_type": "code",
   "execution_count": 6,
   "metadata": {},
   "outputs": [],
   "source": [
    "def load_dataset(filenames):\n",
    "    features, labels = np.empty((0,40,173)), np.empty(0)\n",
    "    cnt = 0;\n",
    "    cnt_all = len(filenames)\n",
    "    \n",
    "    for filename in filenames:\n",
    "        mfccs = extract_feature(filename)\n",
    "        features = np.append(features,mfccs[None],axis=0)\n",
    "        cnt+=1\n",
    "        if(cnt%100==0):\n",
    "            print([str(cnt)+' / '+str(cnt_all)+' finished'])\n",
    "        labels = np.append(labels, filename.split('\\\\')[1].split('-')[1])\n",
    "    return np.array(features), np.array(labels, dtype=np.int)"
   ]
  },
  {
   "cell_type": "markdown",
   "metadata": {},
   "source": [
    "将训练过程可视化的函数"
   ]
  },
  {
   "cell_type": "code",
   "execution_count": 7,
   "metadata": {},
   "outputs": [],
   "source": [
    "def show_history(history):\n",
    "    print(history.history.keys())\n",
    "    fig = plt.figure(figsize=(20,5))\n",
    "    plt.subplot(121)\n",
    "    plt.plot(history.history['acc'])\n",
    "    plt.plot(history.history['val_acc'])\n",
    "    plt.title('model accuracy')\n",
    "    plt.ylabel('accuracy')\n",
    "    plt.xlabel('epoch')\n",
    "    plt.legend(['train', 'test'], loc='upper left')\n",
    "    plt.subplot(122)\n",
    "    plt.plot(history.history['loss'])\n",
    "    plt.plot(history.history['val_loss'])\n",
    "    plt.title('model loss')\n",
    "    plt.ylabel('loss')\n",
    "    plt.xlabel('epoch')\n",
    "    plt.legend(['train', 'test'], loc='lower left')\n",
    "    plt.show()"
   ]
  },
  {
   "cell_type": "markdown",
   "metadata": {},
   "source": [
    "如果还没有将音频转换为features，则进行转化并保存。"
   ]
  },
  {
   "cell_type": "code",
   "execution_count": 8,
   "metadata": {},
   "outputs": [],
   "source": [
    "# train_x, train_y = load_dataset(train_files)\n",
    "# pickle.dump(train_x, open('./train_x.dat', 'wb'))\n",
    "# pickle.dump(train_y, open('./train_y.dat', 'wb'))\n",
    "\n",
    "# val_x, val_y = load_dataset(val_files)\n",
    "# pickle.dump(val_x, open('./val_x.dat', 'wb'))\n",
    "# pickle.dump(val_y, open('./val_y.dat', 'wb'))\n",
    "\n",
    "# test_x, test_y = load_dataset(test_files)\n",
    "# pickle.dump(test_x, open('./test_x.dat', 'wb'))\n",
    "# pickle.dump(test_y, open('./test_y.dat', 'wb'))"
   ]
  },
  {
   "cell_type": "markdown",
   "metadata": {},
   "source": [
    "如果已经有features了，就从文件中读取。"
   ]
  },
  {
   "cell_type": "code",
   "execution_count": 9,
   "metadata": {},
   "outputs": [],
   "source": [
    "train_x = pickle.load(open('./train_x.dat', 'rb'))\n",
    "train_y = pickle.load(open('./train_y.dat', 'rb'))\n",
    "val_x = pickle.load(open('./val_x.dat', 'rb'))\n",
    "val_y = pickle.load(open('./val_y.dat', 'rb'))\n",
    "test_x = pickle.load(open('./test_x.dat', 'rb'))\n",
    "test_y = pickle.load(open('./test_y.dat', 'rb'))"
   ]
  },
  {
   "cell_type": "markdown",
   "metadata": {},
   "source": [
    "接下来对feature进行一些预处理。mfcc是二维数据，要输入conv2D层，要把它变为3维数据。因为是聚类，所以把label转化为categories"
   ]
  },
  {
   "cell_type": "code",
   "execution_count": 10,
   "metadata": {},
   "outputs": [],
   "source": [
    "train_x = train_x.reshape(train_x.shape[0],train_x.shape[1],train_x.shape[2],1)\n",
    "val_x = val_x.reshape(val_x.shape[0],val_x.shape[1],val_x.shape[2],1)\n",
    "test_x = test_x.reshape(test_x.shape[0],test_x.shape[1],test_x.shape[2],1)\n",
    "\n",
    "train_y = to_categorical(train_y)\n",
    "val_y = to_categorical(val_y)\n",
    "test_y = to_categorical(test_y)"
   ]
  },
  {
   "cell_type": "markdown",
   "metadata": {},
   "source": [
    "Pre-processing至此结束，检查一下我们的训练集"
   ]
  },
  {
   "cell_type": "code",
   "execution_count": 12,
   "metadata": {},
   "outputs": [
    {
     "name": "stdout",
     "output_type": "stream",
     "text": [
      "(2686, 40, 173, 1)\n",
      "(2686, 10)\n"
     ]
    }
   ],
   "source": [
    "print(train_x.shape)\n",
    "print(train_y.shape)"
   ]
  },
  {
   "cell_type": "markdown",
   "metadata": {},
   "source": [
    "没有问题的话就开始搭建模型"
   ]
  },
  {
   "cell_type": "code",
   "execution_count": 13,
   "metadata": {},
   "outputs": [
    {
     "name": "stdout",
     "output_type": "stream",
     "text": [
      "________________________________________________________________________________\n",
      "Layer (type)                        Output Shape                    Param #     \n",
      "================================================================================\n",
      "conv2d_1 (Conv2D)                   (None, 38, 171, 32)             320         \n",
      "________________________________________________________________________________\n",
      "max_pooling2d_1 (MaxPooling2D)      (None, 19, 85, 32)              0           \n",
      "________________________________________________________________________________\n",
      "dropout_1 (Dropout)                 (None, 19, 85, 32)              0           \n",
      "________________________________________________________________________________\n",
      "conv2d_2 (Conv2D)                   (None, 17, 83, 32)              9248        \n",
      "________________________________________________________________________________\n",
      "max_pooling2d_2 (MaxPooling2D)      (None, 8, 41, 32)               0           \n",
      "________________________________________________________________________________\n",
      "dropout_2 (Dropout)                 (None, 8, 41, 32)               0           \n",
      "________________________________________________________________________________\n",
      "flatten_1 (Flatten)                 (None, 10496)                   0           \n",
      "________________________________________________________________________________\n",
      "dense_1 (Dense)                     (None, 10)                      104970      \n",
      "================================================================================\n",
      "Total params: 114,538\n",
      "Trainable params: 114,538\n",
      "Non-trainable params: 0\n",
      "________________________________________________________________________________\n"
     ]
    }
   ],
   "source": [
    "model = Sequential()\n",
    "\n",
    "model.add(Convolution2D(32, (3, 3), activation='relu',input_shape = train_x.shape[1:]))\n",
    "model.add(MaxPooling2D((2, 2)))\n",
    "model.add(Dropout(0.5)) \n",
    "model.add(Convolution2D(32, (3, 3),  activation='relu'))\n",
    "model.add(MaxPooling2D(2, 2))\n",
    "model.add(Dropout(0.5))\n",
    "model.add(Flatten())\n",
    "model.add(Dense(10, activation='softmax'))\n",
    "model.compile(optimizer='Adam',\n",
    "                loss='categorical_crossentropy',\n",
    "                metrics=['accuracy'])\n",
    "model.summary(line_length=80)"
   ]
  },
  {
   "cell_type": "code",
   "execution_count": 14,
   "metadata": {},
   "outputs": [
    {
     "name": "stdout",
     "output_type": "stream",
     "text": [
      "Train on 2686 samples, validate on 83 samples\n",
      "Epoch 1/10\n",
      "2686/2686 [==============================] - 13s 5ms/step - loss: 2.0973 - acc: 0.2223 - val_loss: 1.8910 - val_acc: 0.3012\n",
      "Epoch 2/10\n",
      "2686/2686 [==============================] - 8s 3ms/step - loss: 1.5507 - acc: 0.4151 - val_loss: 1.6829 - val_acc: 0.3494\n",
      "Epoch 3/10\n",
      "2686/2686 [==============================] - 8s 3ms/step - loss: 1.2991 - acc: 0.5316 - val_loss: 1.4978 - val_acc: 0.4458\n",
      "Epoch 4/10\n",
      "2686/2686 [==============================] - 8s 3ms/step - loss: 1.1322 - acc: 0.5934 - val_loss: 1.7221 - val_acc: 0.3976\n",
      "Epoch 5/10\n",
      "2686/2686 [==============================] - 8s 3ms/step - loss: 1.0006 - acc: 0.6385 - val_loss: 1.7749 - val_acc: 0.4096\n",
      "Epoch 6/10\n",
      "2686/2686 [==============================] - 8s 3ms/step - loss: 0.9274 - acc: 0.6660 - val_loss: 1.4768 - val_acc: 0.4578\n",
      "Epoch 7/10\n",
      "2686/2686 [==============================] - 8s 3ms/step - loss: 0.7824 - acc: 0.7226 - val_loss: 1.4234 - val_acc: 0.4819\n",
      "Epoch 8/10\n",
      "2686/2686 [==============================] - 8s 3ms/step - loss: 0.7153 - acc: 0.7390 - val_loss: 1.5800 - val_acc: 0.4699\n",
      "Epoch 9/10\n",
      "2686/2686 [==============================] - 8s 3ms/step - loss: 0.6537 - acc: 0.7640 - val_loss: 1.6162 - val_acc: 0.5301\n",
      "Epoch 10/10\n",
      "2686/2686 [==============================] - 8s 3ms/step - loss: 0.5779 - acc: 0.7897 - val_loss: 1.3760 - val_acc: 0.5060\n"
     ]
    }
   ],
   "source": [
    "history = model.fit(train_x, train_y, epochs=10, batch_size=32, validation_data=(val_x, val_y))"
   ]
  },
  {
   "cell_type": "code",
   "execution_count": 15,
   "metadata": {},
   "outputs": [
    {
     "name": "stdout",
     "output_type": "stream",
     "text": [
      "dict_keys(['val_loss', 'val_acc', 'loss', 'acc'])\n"
     ]
    },
    {
     "data": {
      "image/png": "[encoded data removed]",
      "text/plain": [
       "<Figure size 1440x360 with 2 Axes>"
      ]
     },
     "metadata": {},
     "output_type": "display_data"
    }
   ],
   "source": [
    "show_history(history)"
   ]
  },
  {
   "cell_type": "code",
   "execution_count": null,
   "metadata": {},
   "outputs": [],
   "source": []
  }
 ],
 "metadata": {
  "kernelspec": {
   "display_name": "Python (tensorflow)",
   "language": "python",
   "name": "tensorflow"
  },
  "language_info": {
   "codemirror_mode": {
    "name": "ipython",
    "version": 3
   },
   "file_extension": ".py",
   "mimetype": "text/x-python",
   "name": "python",
   "nbconvert_exporter": "python",
   "pygments_lexer": "ipython3",
   "version": "3.6.5"
  }
 },
 "nbformat": 4,
 "nbformat_minor": 2
}
