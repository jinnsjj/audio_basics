{
 "cells": [
  {
   "cell_type": "markdown",
   "metadata": {},
   "source": [
    "# Sound_Classifier_Neural_Network"
   ]
  },
  {
   "cell_type": "code",
   "execution_count": 1,
   "metadata": {},
   "outputs": [
    {
     "name": "stderr",
     "output_type": "stream",
     "text": [
      "Using TensorFlow backend.\n"
     ]
    },
    {
     "data": {
      "text/plain": [
       "'2.2.0'"
      ]
     },
     "execution_count": 1,
     "metadata": {},
     "output_type": "execute_result"
    }
   ],
   "source": [
    "import glob\n",
    "import os\n",
    "import librosa\n",
    "import numpy as np\n",
    "import matplotlib.pyplot as plt\n",
    "\n",
    "%matplotlib inline\n",
    "\n",
    "plt.style.use('ggplot')\n",
    "\n",
    "import keras\n",
    "from keras import models\n",
    "from keras.layers import Dense, Dropout, Activation, Flatten\n",
    "from keras.layers import Convolution2D, MaxPooling2D\n",
    "from keras.utils import to_categorical\n",
    "keras.__version__"
   ]
  },
  {
   "cell_type": "code",
   "execution_count": 2,
   "metadata": {},
   "outputs": [
    {
     "data": {
      "text/plain": [
       "'../data/UrbanSound8K/audio/train\\\\100652-3-0-1.wav'"
      ]
     },
     "execution_count": 2,
     "metadata": {},
     "output_type": "execute_result"
    }
   ],
   "source": [
    "spl = 0\n",
    "\n",
    "parent_dir = '../data/UrbanSound8K/audio/'\n",
    "if spl:\n",
    "    sub_dir = 'samples/'\n",
    "else:\n",
    "    sub_dir = 'train/'    \n",
    "file_name = '*.wav'\n",
    "files = glob.glob(os.path.join(parent_dir, sub_dir, file_name))\n",
    "test_files = glob.glob(os.path.join(parent_dir, 'fold10/', file_name))\n",
    "files[1]"
   ]
  },
  {
   "cell_type": "code",
   "execution_count": 3,
   "metadata": {},
   "outputs": [],
   "source": [
    "def parse_audio(files):\n",
    "    features, labels = np.empty((0,52)), np.empty(0)\n",
    "    for file in files:\n",
    "        # extract label from filename\n",
    "        labels = np.append(labels, file.split('\\\\')[1].split('-')[1])\n",
    "        \n",
    "        # extract features from audio file\n",
    "        x, sr = librosa.load(file)\n",
    "        stft = np.abs(librosa.stft(x))\n",
    "        mfccs = np.mean(librosa.feature.mfcc(y=x, sr=sr, n_mfcc=40).T, axis=0)\n",
    "        chroma = np.mean(librosa.feature.chroma_stft(S=stft,sr=sr).T, axis=0)\n",
    "        feature = np.hstack((mfccs,chroma))\n",
    "#         print(chroma.shape)\n",
    "#         print(mfccs.shape)\n",
    "#         print(feature.shape)\n",
    "        features = np.vstack((features, feature))\n",
    "    return np.array(features), np.array(labels, dtype=np.int)"
   ]
  },
  {
   "cell_type": "code",
   "execution_count": 4,
   "metadata": {},
   "outputs": [],
   "source": [
    "features, labels = parse_audio(files)\n",
    "train_labels = to_categorical(labels)\n",
    "print(features.shape)\n",
    "print(labels.shape)\n",
    "\n",
    "test_features, test_labels = parse_audio(test_files)\n",
    "test_labels = to_categorical(test_labels)"
   ]
  },
  {
   "cell_type": "code",
   "execution_count": 22,
   "metadata": {},
   "outputs": [],
   "source": [
    "np.savetxt('train_features',features)\n",
    "np.savetxt('train_labels',train_labels)\n",
    "np.savetxt('test_features',test_features)\n",
    "np.savetxt('test_labels',test_labels)"
   ]
  },
  {
   "cell_type": "markdown",
   "metadata": {},
   "source": [
    "# Build and compile model"
   ]
  },
  {
   "cell_type": "code",
   "execution_count": 41,
   "metadata": {},
   "outputs": [],
   "source": [
    "# model = models.Sequential()\n",
    "# model.add(layers.Dense(256, activation='relu', input_shape=(52,)))\n",
    "# model.add(layers.Dense(50, activation='relu'))\n",
    "# # model.add(layers.Dense(512, activation='relu'))\n",
    "# model.add(layers.Dense(10, activation='softmax'))\n",
    "\n",
    "# model.compile(optimizer='Adagrad',\n",
    "#                 loss='categorical_crossentropy',\n",
    "#                 metrics=['accuracy'])\n",
    "\n",
    "model = models.Sequential()\n",
    "\n",
    "model.add(Dense(256,input_shape=(52,)))\n",
    "model.add(Activation('relu'))\n",
    "model.add(Dropout(0.5))\n",
    "\n",
    "model.add(Dense(256))\n",
    "model.add(Activation('relu'))\n",
    "model.add(Dropout(0.5))\n",
    "\n",
    "model.add(Dense(256))\n",
    "model.add(Activation('relu'))\n",
    "model.add(Dropout(0.5))\n",
    "\n",
    "model.add(Dense(256))\n",
    "model.add(Activation('relu'))\n",
    "model.add(Dropout(0.5))\n",
    "\n",
    "model.add(Dense(10))\n",
    "model.add(Activation('softmax'))\n",
    "\n",
    "model.compile(optimizer='Adam',\n",
    "                loss='categorical_crossentropy',\n",
    "                metrics=['accuracy'])"
   ]
  },
  {
   "cell_type": "markdown",
   "metadata": {},
   "source": [
    "## Train model"
   ]
  },
  {
   "cell_type": "code",
   "execution_count": 42,
   "metadata": {},
   "outputs": [
    {
     "name": "stdout",
     "output_type": "stream",
     "text": [
      "Train on 2686 samples, validate on 837 samples\n",
      "Epoch 1/50\n",
      "2686/2686 [==============================] - 2s 775us/step - loss: 13.1498 - acc: 0.1322 - val_loss: 8.5091 - val_acc: 0.2593\n",
      "Epoch 2/50\n",
      "2686/2686 [==============================] - 1s 242us/step - loss: 12.8031 - acc: 0.1608 - val_loss: 11.7348 - val_acc: 0.1589\n",
      "Epoch 3/50\n",
      "2686/2686 [==============================] - 1s 242us/step - loss: 11.8480 - acc: 0.1951 - val_loss: 9.7277 - val_acc: 0.2091\n",
      "Epoch 4/50\n",
      "2686/2686 [==============================] - 1s 240us/step - loss: 9.6323 - acc: 0.2074 - val_loss: 2.9280 - val_acc: 0.2151\n",
      "Epoch 5/50\n",
      "2686/2686 [==============================] - 1s 294us/step - loss: 4.0753 - acc: 0.1966 - val_loss: 2.2166 - val_acc: 0.2521\n",
      "Epoch 6/50\n",
      "2686/2686 [==============================] - 1s 268us/step - loss: 2.4666 - acc: 0.2211 - val_loss: 2.1852 - val_acc: 0.1995\n",
      "Epoch 7/50\n",
      "2686/2686 [==============================] - 1s 278us/step - loss: 2.2166 - acc: 0.2405 - val_loss: 2.1598 - val_acc: 0.2330\n",
      "Epoch 8/50\n",
      "2686/2686 [==============================] - 1s 247us/step - loss: 2.1291 - acc: 0.2580 - val_loss: 2.1237 - val_acc: 0.2748\n",
      "Epoch 9/50\n",
      "2686/2686 [==============================] - 1s 302us/step - loss: 2.0336 - acc: 0.2856 - val_loss: 2.0454 - val_acc: 0.3178\n",
      "Epoch 10/50\n",
      "2686/2686 [==============================] - 1s 251us/step - loss: 2.0170 - acc: 0.2967 - val_loss: 2.0451 - val_acc: 0.2915\n",
      "Epoch 11/50\n",
      "2686/2686 [==============================] - 1s 281us/step - loss: 1.9170 - acc: 0.3362 - val_loss: 1.9840 - val_acc: 0.3297\n",
      "Epoch 12/50\n",
      "2686/2686 [==============================] - 1s 298us/step - loss: 1.8561 - acc: 0.3574 - val_loss: 1.9121 - val_acc: 0.3501\n",
      "Epoch 13/50\n",
      "2686/2686 [==============================] - 1s 271us/step - loss: 1.7711 - acc: 0.3909 - val_loss: 1.8688 - val_acc: 0.3584\n",
      "Epoch 14/50\n",
      "2686/2686 [==============================] - 1s 286us/step - loss: 1.7446 - acc: 0.3943 - val_loss: 1.8162 - val_acc: 0.4098\n",
      "Epoch 15/50\n",
      "2686/2686 [==============================] - 1s 390us/step - loss: 1.6430 - acc: 0.4267 - val_loss: 1.7411 - val_acc: 0.4731\n",
      "Epoch 16/50\n",
      "2686/2686 [==============================] - 1s 413us/step - loss: 1.6218 - acc: 0.4401 - val_loss: 1.7364 - val_acc: 0.4421\n",
      "Epoch 17/50\n",
      "2686/2686 [==============================] - 1s 388us/step - loss: 1.5416 - acc: 0.4751 - val_loss: 1.7072 - val_acc: 0.4409\n",
      "Epoch 18/50\n",
      "2686/2686 [==============================] - 1s 407us/step - loss: 1.4907 - acc: 0.4829 - val_loss: 1.6668 - val_acc: 0.4217\n",
      "Epoch 19/50\n",
      "2686/2686 [==============================] - 1s 428us/step - loss: 1.4308 - acc: 0.5112 - val_loss: 1.6261 - val_acc: 0.4492\n",
      "Epoch 20/50\n",
      "2686/2686 [==============================] - 1s 391us/step - loss: 1.3739 - acc: 0.5261 - val_loss: 1.6281 - val_acc: 0.4922\n",
      "Epoch 21/50\n",
      "2686/2686 [==============================] - 1s 378us/step - loss: 1.3403 - acc: 0.5514 - val_loss: 1.6537 - val_acc: 0.4444\n",
      "Epoch 22/50\n",
      "2686/2686 [==============================] - 1s 421us/step - loss: 1.2957 - acc: 0.5506 - val_loss: 1.6364 - val_acc: 0.4516\n",
      "Epoch 23/50\n",
      "2686/2686 [==============================] - 1s 434us/step - loss: 1.2605 - acc: 0.5771 - val_loss: 1.6125 - val_acc: 0.5006\n",
      "Epoch 24/50\n",
      "2686/2686 [==============================] - 1s 473us/step - loss: 1.2356 - acc: 0.5663 - val_loss: 1.6059 - val_acc: 0.4839\n",
      "Epoch 25/50\n",
      "2686/2686 [==============================] - 1s 444us/step - loss: 1.1729 - acc: 0.5916 - val_loss: 1.6217 - val_acc: 0.4875\n",
      "Epoch 26/50\n",
      "2686/2686 [==============================] - 1s 463us/step - loss: 1.1612 - acc: 0.5953 - val_loss: 1.6144 - val_acc: 0.4456\n",
      "Epoch 27/50\n",
      "2686/2686 [==============================] - 1s 441us/step - loss: 1.1055 - acc: 0.6206 - val_loss: 1.6383 - val_acc: 0.4373\n",
      "Epoch 28/50\n",
      "2686/2686 [==============================] - 1s 414us/step - loss: 1.0957 - acc: 0.6210 - val_loss: 1.6738 - val_acc: 0.4851\n",
      "Epoch 29/50\n",
      "2686/2686 [==============================] - 1s 376us/step - loss: 1.0592 - acc: 0.6296 - val_loss: 1.6904 - val_acc: 0.4659\n",
      "Epoch 30/50\n",
      "2686/2686 [==============================] - 1s 382us/step - loss: 1.0491 - acc: 0.6512 - val_loss: 1.6667 - val_acc: 0.4970\n",
      "Epoch 31/50\n",
      "2686/2686 [==============================] - 1s 379us/step - loss: 1.0102 - acc: 0.6590 - val_loss: 1.6715 - val_acc: 0.4719\n",
      "Epoch 32/50\n",
      "2686/2686 [==============================] - 1s 398us/step - loss: 0.9938 - acc: 0.6660 - val_loss: 1.7188 - val_acc: 0.4910\n",
      "Epoch 33/50\n",
      "2686/2686 [==============================] - 1s 384us/step - loss: 0.9480 - acc: 0.6787 - val_loss: 1.6877 - val_acc: 0.4456\n",
      "Epoch 34/50\n",
      "2686/2686 [==============================] - 1s 408us/step - loss: 0.9410 - acc: 0.6727 - val_loss: 1.6739 - val_acc: 0.4516\n",
      "Epoch 35/50\n",
      "2686/2686 [==============================] - 1s 392us/step - loss: 0.9400 - acc: 0.6821 - val_loss: 1.6848 - val_acc: 0.4970\n",
      "Epoch 36/50\n",
      "2686/2686 [==============================] - 1s 405us/step - loss: 0.9268 - acc: 0.6917 - val_loss: 1.6262 - val_acc: 0.5114\n",
      "Epoch 37/50\n",
      "2686/2686 [==============================] - 1s 387us/step - loss: 0.8449 - acc: 0.7159 - val_loss: 1.7366 - val_acc: 0.5257\n",
      "Epoch 38/50\n",
      "2686/2686 [==============================] - 1s 382us/step - loss: 0.8960 - acc: 0.6999 - val_loss: 1.6705 - val_acc: 0.4815\n",
      "Epoch 39/50\n",
      "2686/2686 [==============================] - 1s 386us/step - loss: 0.8650 - acc: 0.7137 - val_loss: 1.6759 - val_acc: 0.5006\n",
      "Epoch 40/50\n",
      "2686/2686 [==============================] - 1s 379us/step - loss: 0.8479 - acc: 0.7163 - val_loss: 1.7041 - val_acc: 0.5006\n",
      "Epoch 41/50\n",
      "2686/2686 [==============================] - 1s 392us/step - loss: 0.8406 - acc: 0.7241 - val_loss: 1.6608 - val_acc: 0.4946\n",
      "Epoch 42/50\n",
      "2686/2686 [==============================] - 1s 396us/step - loss: 0.8141 - acc: 0.7297 - val_loss: 1.6669 - val_acc: 0.4875\n",
      "Epoch 43/50\n",
      "2686/2686 [==============================] - 1s 406us/step - loss: 0.7533 - acc: 0.7375 - val_loss: 1.7022 - val_acc: 0.4958\n",
      "Epoch 44/50\n",
      "2686/2686 [==============================] - 1s 429us/step - loss: 0.7606 - acc: 0.7427 - val_loss: 1.6468 - val_acc: 0.4910\n",
      "Epoch 45/50\n",
      "2686/2686 [==============================] - 1s 416us/step - loss: 0.7576 - acc: 0.7319 - val_loss: 1.7242 - val_acc: 0.5125\n",
      "Epoch 46/50\n",
      "2686/2686 [==============================] - 1s 411us/step - loss: 0.7575 - acc: 0.7502 - val_loss: 1.6251 - val_acc: 0.5209\n",
      "Epoch 47/50\n",
      "2686/2686 [==============================] - 1s 380us/step - loss: 0.7460 - acc: 0.7509 - val_loss: 1.6690 - val_acc: 0.5018\n",
      "Epoch 48/50\n",
      "2686/2686 [==============================] - 1s 384us/step - loss: 0.7294 - acc: 0.7494 - val_loss: 1.6261 - val_acc: 0.5137\n",
      "Epoch 49/50\n",
      "2686/2686 [==============================] - 1s 372us/step - loss: 0.7060 - acc: 0.7602 - val_loss: 1.6200 - val_acc: 0.5281\n",
      "Epoch 50/50\n",
      "2686/2686 [==============================] - 1s 388us/step - loss: 0.6886 - acc: 0.7535 - val_loss: 1.6549 - val_acc: 0.5257\n"
     ]
    }
   ],
   "source": [
    "# from keras.callbacks import TensorBoard\n",
    "# from keras.utils import plot_model\n",
    "\n",
    "# tb = TensorBoard(log_dir='./logs',  # log 目录\n",
    "#                  histogram_freq=1,  # 按照何等频率（epoch）来计算直方图，0为不计算\n",
    "#                  batch_size=32,     # 用多大量的数据计算直方图\n",
    "#                  write_graph=True,  # 是否存储网络结构图\n",
    "#                  write_grads=False, # 是否可视化梯度直方图\n",
    "#                  write_images=False,# 是否可视化参数\n",
    "#                  embeddings_freq=0, \n",
    "#                  embeddings_layer_names=None, \n",
    "#                  embeddings_metadata=None)\n",
    "# callbacks = [tb]\n",
    "# history = model.fit(features, train_labels, epochs=50, batch_size=32, validation_data=(test_features, test_labels),callbacks=callbacks)\n",
    "\n",
    "history = model.fit(features, train_labels, epochs=50, batch_size=32, validation_data=(test_features, test_labels))"
   ]
  },
  {
   "cell_type": "code",
   "execution_count": 48,
   "metadata": {},
   "outputs": [
    {
     "name": "stdout",
     "output_type": "stream",
     "text": [
      "dict_keys(['val_loss', 'val_acc', 'loss', 'acc'])\n"
     ]
    },
    {
     "data": {
      "image/png": "[encoded data removed]",
      "text/plain": [
       "<Figure size 1440x360 with 2 Axes>"
      ]
     },
     "metadata": {},
     "output_type": "display_data"
    }
   ],
   "source": [
    "print(history.history.keys())\n",
    "\n",
    "fig = plt.figure(figsize=(20,5))\n",
    "plt.subplot(121)\n",
    "plt.plot(history.history['acc'])\n",
    "plt.plot(history.history['val_acc'])\n",
    "plt.title('model accuracy')\n",
    "plt.ylabel('accuracy')\n",
    "plt.xlabel('epoch')\n",
    "plt.legend(['train', 'test'], loc='upper left')\n",
    "plt.subplot(122)\n",
    "plt.plot(history.history['loss'])\n",
    "plt.plot(history.history['val_loss'])\n",
    "plt.title('model loss')\n",
    "plt.ylabel('loss')\n",
    "plt.xlabel('epoch')\n",
    "plt.legend(['train', 'test'], loc='lower left')\n",
    "plt.show()"
   ]
  },
  {
   "cell_type": "markdown",
   "metadata": {},
   "source": [
    "## Test model"
   ]
  },
  {
   "cell_type": "code",
   "execution_count": 49,
   "metadata": {},
   "outputs": [
    {
     "name": "stdout",
     "output_type": "stream",
     "text": [
      "837/837 [==============================] - 0s 306us/step\n"
     ]
    },
    {
     "data": {
      "text/plain": [
       "0.5256869772998806"
      ]
     },
     "execution_count": 49,
     "metadata": {},
     "output_type": "execute_result"
    }
   ],
   "source": [
    "test_loss, test_acc = model.evaluate(test_features, test_labels)\n",
    "test_acc"
   ]
  }
 ],
 "metadata": {
  "kernelspec": {
   "display_name": "Python (tensorflow)",
   "language": "python",
   "name": "tensorflow"
  },
  "language_info": {
   "codemirror_mode": {
    "name": "ipython",
    "version": 3
   },
   "file_extension": ".py",
   "mimetype": "text/x-python",
   "name": "python",
   "nbconvert_exporter": "python",
   "pygments_lexer": "ipython3",
   "version": "3.6.5"
  }
 },
 "nbformat": 4,
 "nbformat_minor": 2
}
