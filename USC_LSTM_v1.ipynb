{
 "cells": [
  {
   "cell_type": "code",
   "execution_count": 1,
   "metadata": {},
   "outputs": [
    {
     "name": "stderr",
     "output_type": "stream",
     "text": [
      "Using TensorFlow backend.\n"
     ]
    }
   ],
   "source": [
    "%matplotlib inline\n",
    "import matplotlib.pyplot as plt\n",
    "plt.style.use('ggplot')\n",
    "import pickle\n",
    "import numpy as np\n",
    "import librosa\n",
    "import librosa.display\n",
    "import IPython.display\n",
    "import sklearn\n",
    "from keras.models import Sequential\n",
    "from keras.layers import Dense, CuDNNLSTM, Dropout, Flatten, GaussianDropout, BatchNormalization\n",
    "from keras.layers.convolutional import Conv2D,MaxPooling2D\n",
    "from keras.utils import to_categorical\n",
    "from keras.models import Sequential"
   ]
  },
  {
   "cell_type": "code",
   "execution_count": 2,
   "metadata": {},
   "outputs": [],
   "source": [
    "def show_history(history):\n",
    "    print(history.history.keys())\n",
    "    fig = plt.figure(figsize=(20,5))\n",
    "    plt.subplot(121)\n",
    "    plt.plot(history.history['acc'])\n",
    "    plt.plot(history.history['val_acc'])\n",
    "    plt.title('model accuracy')\n",
    "    plt.ylabel('accuracy')\n",
    "    plt.xlabel('epoch')\n",
    "    plt.legend(['train', 'test'], loc='upper left')\n",
    "    plt.subplot(122)\n",
    "    plt.plot(history.history['loss'])\n",
    "    plt.plot(history.history['val_loss'])\n",
    "    plt.title('model loss')\n",
    "    plt.ylabel('loss')\n",
    "    plt.xlabel('epoch')\n",
    "    plt.legend(['train', 'test'], loc='lower left')\n",
    "    plt.show()"
   ]
  },
  {
   "cell_type": "code",
   "execution_count": 3,
   "metadata": {},
   "outputs": [],
   "source": [
    "n_frame = 173\n",
    "n_mfcc = 40"
   ]
  },
  {
   "cell_type": "code",
   "execution_count": 4,
   "metadata": {},
   "outputs": [],
   "source": [
    "train_x = pickle.load(open('./train_x.dat', 'rb'))\n",
    "train_y = pickle.load(open('./train_y.dat', 'rb'))\n",
    "test_x = pickle.load(open('./test_x.dat', 'rb'))\n",
    "test_y = pickle.load(open('./test_y.dat', 'rb'))\n",
    "\n",
    "train_x = train_x.transpose((0,2,1))\n",
    "test_x = test_x.transpose((0,2,1))\n",
    "\n",
    "# train_x = np.mean(train_x,axis = 2)\n",
    "# test_x = np.mean(test_x,axis = 2)\n",
    "\n",
    "train_y = to_categorical(train_y)\n",
    "test_y = to_categorical(test_y)"
   ]
  },
  {
   "cell_type": "code",
   "execution_count": 5,
   "metadata": {},
   "outputs": [
    {
     "data": {
      "text/plain": [
       "(2686, 173, 40)"
      ]
     },
     "execution_count": 5,
     "metadata": {},
     "output_type": "execute_result"
    }
   ],
   "source": [
    "train_x.shape"
   ]
  },
  {
   "cell_type": "code",
   "execution_count": 7,
   "metadata": {},
   "outputs": [
    {
     "name": "stdout",
     "output_type": "stream",
     "text": [
      "_________________________________________________________________\n",
      "Layer (type)                 Output Shape              Param #   \n",
      "=================================================================\n",
      "cu_dnnlstm_1 (CuDNNLSTM)     (None, 173, 64)           27136     \n",
      "_________________________________________________________________\n",
      "flatten_3 (Flatten)          (None, 11072)             0         \n",
      "_________________________________________________________________\n",
      "dense_1 (Dense)              (None, 1024)              11338752  \n",
      "_________________________________________________________________\n",
      "dropout_1 (Dropout)          (None, 1024)              0         \n",
      "_________________________________________________________________\n",
      "dense_2 (Dense)              (None, 1024)              1049600   \n",
      "_________________________________________________________________\n",
      "dropout_2 (Dropout)          (None, 1024)              0         \n",
      "_________________________________________________________________\n",
      "dense_3 (Dense)              (None, 1024)              1049600   \n",
      "_________________________________________________________________\n",
      "dropout_3 (Dropout)          (None, 1024)              0         \n",
      "_________________________________________________________________\n",
      "dense_4 (Dense)              (None, 10)                10250     \n",
      "=================================================================\n",
      "Total params: 13,475,338\n",
      "Trainable params: 13,475,338\n",
      "Non-trainable params: 0\n",
      "_________________________________________________________________\n"
     ]
    }
   ],
   "source": [
    "model = Sequential()\n",
    "# model.add(Flatten(input_shape = train_x.shape[1:]))\n",
    "model.add(CuDNNLSTM(units=64, input_shape = (n_frame, n_mfcc), return_sequences=True))\n",
    "# model.add(BatchNormalization())\n",
    "# model.add(Dropout(0.5))\n",
    "model.add(Flatten())\n",
    "\n",
    "model.add(Dense(1024, activation='relu'))\n",
    "model.add(Dropout(0.5))\n",
    "# model.add(BatchNormalization())\n",
    "\n",
    "model.add(Dense(1024, activation='relu'))\n",
    "model.add(Dropout(0.5))\n",
    "# model.add(BatchNormalization())\n",
    "\n",
    "model.add(Dense(1024, activation='relu'))\n",
    "model.add(Dropout(0.5))\n",
    "\n",
    "model.add(Dense(10, activation='softmax'))\n",
    "model.compile(loss='categorical_crossentropy', \n",
    "              optimizer='Adam', \n",
    "              metrics=['accuracy'])\n",
    "model.summary()"
   ]
  },
  {
   "cell_type": "code",
   "execution_count": 8,
   "metadata": {},
   "outputs": [
    {
     "name": "stdout",
     "output_type": "stream",
     "text": [
      "Train on 2148 samples, validate on 538 samples\n",
      "Epoch 1/20\n",
      "2148/2148 [==============================] - 10s 5ms/step - loss: 2.3363 - acc: 0.1774 - val_loss: 2.2490 - val_acc: 0.1487\n",
      "Epoch 2/20\n",
      "2148/2148 [==============================] - 4s 2ms/step - loss: 1.6807 - acc: 0.4088 - val_loss: 1.9070 - val_acc: 0.2881\n",
      "Epoch 3/20\n",
      "2148/2148 [==============================] - 4s 2ms/step - loss: 1.1198 - acc: 0.6229 - val_loss: 1.9645 - val_acc: 0.2732\n",
      "Epoch 4/20\n",
      "2148/2148 [==============================] - 4s 2ms/step - loss: 0.6489 - acc: 0.7756 - val_loss: 2.4183 - val_acc: 0.2677\n",
      "Epoch 5/20\n",
      "2148/2148 [==============================] - 4s 2ms/step - loss: 0.4411 - acc: 0.8594 - val_loss: 2.6922 - val_acc: 0.2770\n",
      "Epoch 6/20\n",
      "2148/2148 [==============================] - 5s 2ms/step - loss: 0.2862 - acc: 0.9036 - val_loss: 2.8728 - val_acc: 0.3067\n",
      "Epoch 7/20\n",
      "2148/2148 [==============================] - 4s 2ms/step - loss: 0.2573 - acc: 0.9176 - val_loss: 2.6604 - val_acc: 0.3197\n",
      "Epoch 8/20\n",
      "2148/2148 [==============================] - 4s 2ms/step - loss: 0.2183 - acc: 0.9385 - val_loss: 2.7390 - val_acc: 0.3532\n",
      "Epoch 9/20\n",
      "2148/2148 [==============================] - 5s 2ms/step - loss: 0.1759 - acc: 0.9520 - val_loss: 3.2342 - val_acc: 0.3086\n",
      "Epoch 10/20\n",
      "2148/2148 [==============================] - 4s 2ms/step - loss: 0.1669 - acc: 0.9539 - val_loss: 3.3130 - val_acc: 0.3253\n",
      "Epoch 11/20\n",
      "2148/2148 [==============================] - 4s 2ms/step - loss: 0.1358 - acc: 0.9609 - val_loss: 3.7912 - val_acc: 0.2862\n",
      "Epoch 12/20\n",
      "2148/2148 [==============================] - 7s 3ms/step - loss: 0.1325 - acc: 0.9623 - val_loss: 3.3881 - val_acc: 0.3216\n",
      "Epoch 13/20\n",
      "2148/2148 [==============================] - 7s 3ms/step - loss: 0.1247 - acc: 0.9651 - val_loss: 3.5435 - val_acc: 0.3123\n",
      "Epoch 14/20\n",
      "2148/2148 [==============================] - 8s 4ms/step - loss: 0.1253 - acc: 0.9628 - val_loss: 3.7724 - val_acc: 0.3141\n",
      "Epoch 15/20\n",
      "2148/2148 [==============================] - 7s 3ms/step - loss: 0.1432 - acc: 0.9628 - val_loss: 3.5634 - val_acc: 0.3048\n",
      "Epoch 16/20\n",
      "2148/2148 [==============================] - 11s 5ms/step - loss: 0.1181 - acc: 0.9642 - val_loss: 3.7772 - val_acc: 0.3439\n",
      "Epoch 17/20\n",
      "2148/2148 [==============================] - 13s 6ms/step - loss: 0.1192 - acc: 0.9674 - val_loss: 4.2015 - val_acc: 0.2584\n",
      "Epoch 18/20\n",
      "2148/2148 [==============================] - 12s 6ms/step - loss: 0.1414 - acc: 0.9716 - val_loss: 3.9875 - val_acc: 0.3178\n",
      "Epoch 19/20\n",
      "2148/2148 [==============================] - 17s 8ms/step - loss: 0.1144 - acc: 0.9697 - val_loss: 4.4320 - val_acc: 0.2862\n",
      "Epoch 20/20\n",
      "2148/2148 [==============================] - 14s 6ms/step - loss: 0.1394 - acc: 0.9600 - val_loss: 4.1094 - val_acc: 0.3197\n",
      "dict_keys(['val_loss', 'val_acc', 'loss', 'acc'])\n"
     ]
    },
    {
     "data": {
      "image/png": "[encoded data removed]",
      "text/plain": [
       "<Figure size 1440x360 with 2 Axes>"
      ]
     },
     "metadata": {},
     "output_type": "display_data"
    }
   ],
   "source": [
    "history = model.fit(train_x, train_y,\n",
    "                    epochs=20, batch_size=32,\n",
    "                    validation_split=0.2)\n",
    "show_history(history)"
   ]
  },
  {
   "cell_type": "code",
   "execution_count": 9,
   "metadata": {},
   "outputs": [
    {
     "name": "stdout",
     "output_type": "stream",
     "text": [
      "837/837 [==============================] - 0s 557us/step\n"
     ]
    },
    {
     "data": {
      "text/plain": [
       "[3.427379308920465, 0.3870967742291545]"
      ]
     },
     "execution_count": 9,
     "metadata": {},
     "output_type": "execute_result"
    }
   ],
   "source": [
    "model.evaluate(test_x, test_y)"
   ]
  },
  {
   "cell_type": "code",
   "execution_count": null,
   "metadata": {},
   "outputs": [],
   "source": []
  },
  {
   "cell_type": "code",
   "execution_count": null,
   "metadata": {},
   "outputs": [],
   "source": []
  }
 ],
 "metadata": {
  "kernelspec": {
   "display_name": "Python (tensorflow)",
   "language": "python",
   "name": "tensorflow"
  },
  "language_info": {
   "codemirror_mode": {
    "name": "ipython",
    "version": 3
   },
   "file_extension": ".py",
   "mimetype": "text/x-python",
   "name": "python",
   "nbconvert_exporter": "python",
   "pygments_lexer": "ipython3",
   "version": "3.6.5"
  }
 },
 "nbformat": 4,
 "nbformat_minor": 2
}
